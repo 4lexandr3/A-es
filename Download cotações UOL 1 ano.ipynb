{
 "cells": [
  {
   "cell_type": "markdown",
   "metadata": {},
   "source": [
    "<a href=\"http://cotacoes.economia.uol.com.br/acao/cotacoes-historicas.html?codigo=CSNA3.SA&beginDay=2&beginMonth=7&beginYear=2018&endDay=2&endMonth=7&endYear=2019&size=400&page=1&period=\">CSNA3</a><br>\n",
    "<a href=\"http://cotacoes.economia.uol.com.br/acao/cotacoes-historicas.html?codigo=GOLL4.SA&beginDay=2&beginMonth=7&beginYear=2018&endDay=2&endMonth=7&endYear=2019&size=400&page=1&period=\">GOLL4</a><br>\n",
    "<a href=\"http://cotacoes.economia.uol.com.br/acao/cotacoes-historicas.html?codigo=SUZB3.SA&beginDay=2&beginMonth=7&beginYear=2018&endDay=2&endMonth=7&endYear=2019&size=400&page=1&period=\">SUZB3</a><br>\n",
    "<a href=\"http://cotacoes.economia.uol.com.br/acao/cotacoes-historicas.html?codigo=USIM5.SA&beginDay=2&beginMonth=7&beginYear=2018&endDay=2&endMonth=7&endYear=2019&size=400&page=1&period=\">USIM5</a><br>\n",
    "<a href=\"http://cotacoes.economia.uol.com.br/acao/cotacoes-historicas.html?codigo=FJTA4.SA&beginDay=2&beginMonth=7&beginYear=2018&endDay=2&endMonth=7&endYear=2019&size=400&page=1&period=\">FJTA4</a><br>\n",
    "<a href=\"http://cotacoes.economia.uol.com.br/acao/cotacoes-historicas.html?codigo=PDGR3.SA&beginDay=2&beginMonth=7&beginYear=2018&endDay=2&endMonth=7&endYear=2019&size=400&page=1&period=\">PDGR3</a><br>\n",
    "<a href=\"http://cotacoes.economia.uol.com.br/acao/cotacoes-historicas.html?codigo=LOGG3.SA&beginDay=2&beginMonth=7&beginYear=2018&endDay=2&endMonth=7&endYear=2019&size=400&page=1&period=\">LOGG3</a><br>\n",
    "<a href=\"http://cotacoes.economia.uol.com.br/acao/cotacoes-historicas.html?codigo=BPAN4.SA&beginDay=2&beginMonth=7&beginYear=2018&endDay=2&endMonth=7&endYear=2019&size=400&page=1&period=\">BPAN4</a><br>\n",
    "<a href=\"http://cotacoes.economia.uol.com.br/acao/cotacoes-historicas.html?codigo=INEP4.SA&beginDay=2&beginMonth=7&beginYear=2018&endDay=2&endMonth=7&endYear=2019&size=400&page=1&period=\">INEP4</a><br>\n",
    "<a href=\"http://cotacoes.economia.uol.com.br/acao/cotacoes-historicas.html?codigo=OIBR3.SA&beginDay=2&beginMonth=7&beginYear=2018&endDay=2&endMonth=7&endYear=2019&size=400&page=1&period=\">OIBR3</a><br>\n"
   ]
  },
  {
   "cell_type": "code",
   "execution_count": null,
   "metadata": {},
   "outputs": [],
   "source": []
  }
 ],
 "metadata": {
  "kernelspec": {
   "display_name": "Python 3",
   "language": "python",
   "name": "python3"
  },
  "language_info": {
   "codemirror_mode": {
    "name": "ipython",
    "version": 3
   },
   "file_extension": ".py",
   "mimetype": "text/x-python",
   "name": "python",
   "nbconvert_exporter": "python",
   "pygments_lexer": "ipython3",
   "version": "3.6.5"
  }
 },
 "nbformat": 4,
 "nbformat_minor": 2
}
